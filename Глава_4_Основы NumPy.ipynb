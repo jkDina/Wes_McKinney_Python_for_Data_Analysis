{
 "cells": [
  {
   "cell_type": "markdown",
   "metadata": {},
   "source": [
    "# Глава_4_Основы_Numpy"
   ]
  },
  {
   "cell_type": "code",
   "execution_count": null,
   "metadata": {},
   "outputs": [],
   "source": [
    "#ndarray, быстрый и потребляющий мало памяти многомерный массив, \n",
    "#предоставляющий векторные арифметические операции и возможность укладывания\n",
    "\n",
    "#Стандартные математические функции для выполнения быстрых операций \n",
    "#над целыми массивами без явного выписывания циклов\n",
    "\n",
    "#Средства для чтения массива данных с диска и записи его на диск, \n",
    "#а также для работы с проецируемыми на память файлами\n",
    "\n",
    "#Алгоритмы линейной алгебры, генерация случайных чисел и преобразование Фурье\n",
    "\n",
    "#Средства для интеграции с кодом, написанным на С, С++ или Fortran "
   ]
  },
  {
   "cell_type": "code",
   "execution_count": null,
   "metadata": {},
   "outputs": [],
   "source": [
    "#В большинстве приложений для анализа данных основной интерес представляет следующая функциональность: \n",
    "\n",
    "#массивы и векторные вычисления \n",
    "\n",
    "#быстрые векторные операции для переформатирования и очистки данных, выборки подмножеств и фильтрации, \n",
    "#преобразований и других видов вычислений; \n",
    "\n",
    "#стандартные алгоритмы работы с массивами, например: фильтрация, удаление дубликатов и теоретико-множественные операции; \n",
    "\n",
    "#эффективная описательная статистика, агрегирование и обобщение данных; \n",
    "\n",
    "#выравнивание данных и реляционные операции объединения и соединения разнородных наборов данных; \n",
    "\n",
    "#описание условной логики в виде выражений-массивов вместо циклов с ветвлением i f-eli f-else; \n",
    "\n",
    "#групповые операции с данными ( агрегирование, преобразование, применение функции).  "
   ]
  },
  {
   "cell_type": "markdown",
   "metadata": {},
   "source": [
    "# NumPy ndarray: объект многомерного массива "
   ]
  },
  {
   "cell_type": "code",
   "execution_count": null,
   "metadata": {},
   "outputs": [],
   "source": [
    "#объект ndarray для представления N-мерного массива; \n",
    "#это быстрый и гибкий контейнер для хранения больших наборов данных в Python. \n",
    "#Массивы позволяют выполнять математические операции над целыми блоками данных, \n",
    "#применяя такой же синтаксис, как для соответствующих операций над скалярами"
   ]
  },
  {
   "cell_type": "code",
   "execution_count": null,
   "metadata": {},
   "outputs": [],
   "source": [
    "#ndarray - это обобщенный многомерный контейнер для однородных данных, \n",
    "#т. е. в нем могут храниться только элементы одного типа. \n",
    "#У любого массива есть атрибут shape - кортеж, описывающий размер по каждому измерению, \n",
    "#и атрибут dtype - объект, описывающий тип данных в массиве"
   ]
  },
  {
   "cell_type": "markdown",
   "metadata": {},
   "source": [
    "# Создание ndarray "
   ]
  },
  {
   "cell_type": "code",
   "execution_count": 5,
   "metadata": {},
   "outputs": [],
   "source": [
    "#Проще всего создать массив с помощью функции array. \n",
    "#Она принимает любой объект, похожий на последовательность (в том числе другой массив), \n",
    "#и порождает новый массив NнmPy, содержащий переданные данные. \n",
    "#Например, такое преобразование можно проделать со списком\n",
    "import numpy as np\n",
    "data1 = [6, 7, 5, 8, 0, 1]\n",
    "arr1 = np.array(datal) "
   ]
  },
  {
   "cell_type": "code",
   "execution_count": 6,
   "metadata": {},
   "outputs": [
    {
     "data": {
      "text/plain": [
       "array([6, 7, 5, 8, 0, 1])"
      ]
     },
     "execution_count": 6,
     "metadata": {},
     "output_type": "execute_result"
    }
   ],
   "source": [
    "arr1"
   ]
  },
  {
   "cell_type": "code",
   "execution_count": 7,
   "metadata": {},
   "outputs": [],
   "source": [
    "data2 = [[1, 2, 3, 4], [5, 6, 7, 8]] \n",
    "arr2 = np.array(data2) "
   ]
  },
  {
   "cell_type": "code",
   "execution_count": 8,
   "metadata": {},
   "outputs": [
    {
     "data": {
      "text/plain": [
       "array([[1, 2, 3, 4],\n",
       "       [5, 6, 7, 8]])"
      ]
     },
     "execution_count": 8,
     "metadata": {},
     "output_type": "execute_result"
    }
   ],
   "source": [
    "arr2"
   ]
  },
  {
   "cell_type": "code",
   "execution_count": 9,
   "metadata": {},
   "outputs": [
    {
     "data": {
      "text/plain": [
       "2"
      ]
     },
     "execution_count": 9,
     "metadata": {},
     "output_type": "execute_result"
    }
   ],
   "source": [
    "#число осей\n",
    "arr2.ndim "
   ]
  },
  {
   "cell_type": "code",
   "execution_count": 10,
   "metadata": {},
   "outputs": [
    {
     "data": {
      "text/plain": [
       "(2, 4)"
      ]
     },
     "execution_count": 10,
     "metadata": {},
     "output_type": "execute_result"
    }
   ],
   "source": [
    "arr2.shape "
   ]
  },
  {
   "cell_type": "code",
   "execution_count": 12,
   "metadata": {},
   "outputs": [
    {
     "data": {
      "text/plain": [
       "dtype('int32')"
      ]
     },
     "execution_count": 12,
     "metadata": {},
     "output_type": "execute_result"
    }
   ],
   "source": [
    "arr1.dtype "
   ]
  },
  {
   "cell_type": "code",
   "execution_count": 13,
   "metadata": {},
   "outputs": [
    {
     "data": {
      "text/plain": [
       "dtype('int32')"
      ]
     },
     "execution_count": 13,
     "metadata": {},
     "output_type": "execute_result"
    }
   ],
   "source": [
    "arr2.dtype "
   ]
  },
  {
   "cell_type": "code",
   "execution_count": null,
   "metadata": {},
   "outputs": [],
   "source": [
    "#Помимо np. array, существует еще ряд функций для создания массивов. \n",
    "#Например, zeros и ones создают массивы заданной длины, состоящие из нулей и единиц соответственно, \n",
    "#а shape. empty создает массив, не инициализируя его элементы."
   ]
  },
  {
   "cell_type": "code",
   "execution_count": 15,
   "metadata": {},
   "outputs": [
    {
     "data": {
      "text/plain": [
       "array([0., 0., 0., 0., 0., 0., 0., 0., 0., 0.])"
      ]
     },
     "execution_count": 15,
     "metadata": {},
     "output_type": "execute_result"
    }
   ],
   "source": [
    "#Для создания многомерных массивов нужно передать кортеж, описывающий форму\n",
    "np.zeros(10)\n",
    "    "
   ]
  },
  {
   "cell_type": "code",
   "execution_count": 17,
   "metadata": {},
   "outputs": [
    {
     "data": {
      "text/plain": [
       "array([[0., 0., 0., 0., 0., 0.],\n",
       "       [0., 0., 0., 0., 0., 0.],\n",
       "       [0., 0., 0., 0., 0., 0.]])"
      ]
     },
     "execution_count": 17,
     "metadata": {},
     "output_type": "execute_result"
    }
   ],
   "source": [
    "np.zeros(( 3, 6)) "
   ]
  },
  {
   "cell_type": "code",
   "execution_count": 19,
   "metadata": {},
   "outputs": [
    {
     "data": {
      "text/plain": [
       "array([[[0., 0.],\n",
       "        [0., 0.],\n",
       "        [0., 0.]],\n",
       "\n",
       "       [[0., 0.],\n",
       "        [0., 0.],\n",
       "        [0., 0.]]])"
      ]
     },
     "execution_count": 19,
     "metadata": {},
     "output_type": "execute_result"
    }
   ],
   "source": [
    "np.empty((2, 3, 2))"
   ]
  },
  {
   "cell_type": "code",
   "execution_count": 20,
   "metadata": {},
   "outputs": [
    {
     "data": {
      "text/plain": [
       "array([ 0,  1,  2,  3,  4,  5,  6,  7,  8,  9, 10, 11, 12, 13, 14])"
      ]
     },
     "execution_count": 20,
     "metadata": {},
     "output_type": "execute_result"
    }
   ],
   "source": [
    "#Функция arange - вариант встроенной в Python функции range, только возвращаемым значением является массив\n",
    "np.arange(15)"
   ]
  },
  {
   "cell_type": "code",
   "execution_count": null,
   "metadata": {},
   "outputs": [],
   "source": [
    "#Поскольку NшnPy ориентирован, прежде всего, на численные расчеты, \n",
    "#тип данных, если он не указан явно, во многих случаях предполагается float64 "
   ]
  },
  {
   "cell_type": "code",
   "execution_count": null,
   "metadata": {},
   "outputs": [],
   "source": [
    "#array - Преобразует входные данные (список, кортеж, массив или любую другую последовательность) в ndarray. \n",
    "#Тип dtype задается явно или выводится неявно. Входные данные по умолчанию копируются "
   ]
  },
  {
   "cell_type": "code",
   "execution_count": null,
   "metadata": {},
   "outputs": [],
   "source": [
    "#asarray - Преобразует входные данные в ndarray, но не копирует, если на вход уже подан ndarray "
   ]
  },
  {
   "cell_type": "code",
   "execution_count": null,
   "metadata": {},
   "outputs": [],
   "source": [
    "#arange - Аналогична встроенной функции range, но возвращает массив, а не список "
   ]
  },
  {
   "cell_type": "code",
   "execution_count": null,
   "metadata": {},
   "outputs": [],
   "source": [
    "#ones, ones like - Порождает массив, состоящий из одних единиц, с заданными атрибутами shape и dtype. \n",
    "#Функция ones_like принимает другой массив и порождает массив из одних единиц с такими же значениями shape и dtype"
   ]
  },
  {
   "cell_type": "code",
   "execution_count": null,
   "metadata": {},
   "outputs": [],
   "source": [
    "#zeros, zeros like   - Аналогичны ones и ones_like, только порождаемый массив состоит из одних нулей "
   ]
  },
  {
   "cell_type": "code",
   "execution_count": null,
   "metadata": {},
   "outputs": [],
   "source": [
    "#empty, empty _like  - Создают новые массивы, выделяя под них память, но, в отличие от ones и zeros, не инициализируют ее "
   ]
  },
  {
   "cell_type": "code",
   "execution_count": null,
   "metadata": {},
   "outputs": [],
   "source": [
    "#еуе, identity - Создают единичную квадратную матрицу N х N (элементы на главной диагонали равны 1, все остальные - О) "
   ]
  }
 ],
 "metadata": {
  "kernelspec": {
   "display_name": "Python 3",
   "language": "python",
   "name": "python3"
  },
  "language_info": {
   "codemirror_mode": {
    "name": "ipython",
    "version": 3
   },
   "file_extension": ".py",
   "mimetype": "text/x-python",
   "name": "python",
   "nbconvert_exporter": "python",
   "pygments_lexer": "ipython3",
   "version": "3.7.0"
  }
 },
 "nbformat": 4,
 "nbformat_minor": 2
}
